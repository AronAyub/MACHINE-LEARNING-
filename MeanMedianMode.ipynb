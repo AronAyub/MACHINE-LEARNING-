{
 "cells": [
  {
   "cell_type": "markdown",
   "metadata": {},
   "source": [
    "# Mean, Median, Mode, and introducing NumPy"
   ]
  },
  {
   "cell_type": "markdown",
   "metadata": {},
   "source": [
    "## Mean vs. Median"
   ]
  },
  {
   "cell_type": "markdown",
   "metadata": {},
   "source": [
    "Let's create some fake income data, centered around 27,000 with a normal distribution and standard deviation of 15,000, with 10,000 data points. (We'll discuss those terms more later, if you're not familiar with them.)\n",
    "\n",
    "Then, compute the mean (average) - it should be close to 27,000:"
   ]
  },
  {
   "cell_type": "code",
   "execution_count": 1,
   "metadata": {},
   "outputs": [
    {
     "data": {
      "text/plain": [
       "26732.831676949718"
      ]
     },
     "execution_count": 1,
     "metadata": {},
     "output_type": "execute_result"
    }
   ],
   "source": [
    "import numpy as np\n",
    "\n",
    "incomes = np.random.normal(27000, 15000, 10000)\n",
    "np.mean(incomes)"
   ]
  },
  {
   "cell_type": "markdown",
   "metadata": {},
   "source": [
    "We can segment the income data into 50 buckets, and plot it as a histogram:"
   ]
  },
  {
   "cell_type": "code",
   "execution_count": 4,
   "metadata": {},
   "outputs": [
    {
     "data": {
      "image/png": "[encoded data removed]",
      "text/plain": [
       "<Figure size 432x288 with 1 Axes>"
      ]
     },
     "metadata": {
      "needs_background": "light"
     },
     "output_type": "display_data"
    }
   ],
   "source": [
    "%matplotlib inline\n",
    "import matplotlib.pyplot as plt\n",
    "plt.hist(incomes, 50)\n",
    "plt.show()"
   ]
  },
  {
   "cell_type": "markdown",
   "metadata": {},
   "source": [
    "Now compute the median - since we have a nice, even distribution it too should be close to 27,000:"
   ]
  },
  {
   "cell_type": "code",
   "execution_count": 5,
   "metadata": {},
   "outputs": [
    {
     "data": {
      "text/plain": [
       "26929.865324222068"
      ]
     },
     "execution_count": 5,
     "metadata": {},
     "output_type": "execute_result"
    }
   ],
   "source": [
    "np.median(incomes)"
   ]
  },
  {
   "cell_type": "markdown",
   "metadata": {},
   "source": [
    "Now we'll add Jeff Bezos into the mix. Darn income inequality!"
   ]
  },
  {
   "cell_type": "code",
   "execution_count": 6,
   "metadata": {},
   "outputs": [],
   "source": [
    "incomes = np.append(incomes, [1000000000])"
   ]
  },
  {
   "cell_type": "markdown",
   "metadata": {},
   "source": [
    "The median won't change much, but the mean does:"
   ]
  },
  {
   "cell_type": "code",
   "execution_count": 7,
   "metadata": {},
   "outputs": [
    {
     "data": {
      "text/plain": [
       "26932.77924016127"
      ]
     },
     "execution_count": 7,
     "metadata": {},
     "output_type": "execute_result"
    }
   ],
   "source": [
    "np.median(incomes)"
   ]
  },
  {
   "cell_type": "code",
   "execution_count": 8,
   "metadata": {},
   "outputs": [
    {
     "data": {
      "text/plain": [
       "126720.15966098361"
      ]
     },
     "execution_count": 8,
     "metadata": {},
     "output_type": "execute_result"
    }
   ],
   "source": [
    "np.mean(incomes)"
   ]
  },
  {
   "cell_type": "markdown",
   "metadata": {},
   "source": [
    "## Mode"
   ]
  },
  {
   "cell_type": "markdown",
   "metadata": {},
   "source": [
    "Next, let's generate some fake age data for 500 people:"
   ]
  },
  {
   "cell_type": "code",
   "execution_count": 9,
   "metadata": {},
   "outputs": [
    {
     "data": {
      "text/plain": [
       "array([56, 41, 39, 79, 53, 70, 39, 85, 81, 29, 89, 40, 68, 62, 67, 48, 33,\n",
       "       74, 58, 79, 49, 55, 87, 36, 54, 22, 30, 35, 20, 71, 45, 63, 30, 81,\n",
       "       29, 46, 20, 58, 36, 26, 37, 45, 51, 45, 70, 21, 78, 80, 75, 21, 78,\n",
       "       33, 41, 58, 65, 53, 43, 79, 30, 72, 55, 83, 73, 46, 52, 75, 23, 63,\n",
       "       50, 33, 64, 34, 44, 72, 74, 37, 61, 69, 31, 48, 55, 62, 75, 59, 28,\n",
       "       69, 42, 47, 83, 89, 74, 52, 65, 46, 69, 20, 65, 48, 49, 36, 28, 53,\n",
       "       84, 59, 71, 54, 77, 46, 56, 28, 26, 18, 55, 30, 35, 48, 61, 67, 62,\n",
       "       26, 51, 75, 63, 23, 27, 72, 54, 21, 56, 20, 32, 87, 65, 50, 21, 33,\n",
       "       43, 80, 42, 68, 86, 81, 74, 34, 72, 51, 21, 70, 81, 74, 28, 18, 47,\n",
       "       25, 58, 48, 26, 44, 78, 72, 86, 51, 39, 79, 26, 24, 77, 37, 48, 65,\n",
       "       37, 64, 27, 36, 48, 87, 30, 65, 25, 50, 54, 37, 55, 63, 33, 86, 19,\n",
       "       66, 21, 52, 43, 51, 22, 30, 75, 69, 69, 61, 89, 25, 37, 65, 62, 33,\n",
       "       32, 28, 76, 47, 33, 27, 62, 45, 70, 34, 62, 62, 65, 78, 22, 32, 83,\n",
       "       81, 73, 33, 67, 32, 89, 22, 22, 55, 30, 84, 68, 74, 85, 23, 87, 88,\n",
       "       51, 22, 51, 39, 35, 44, 32, 21, 85, 89, 71, 28, 86, 33, 74, 27, 84,\n",
       "       54, 52, 77, 73, 45, 88, 59, 74, 38, 30, 52, 30, 35, 27, 42, 87, 80,\n",
       "       66, 79, 75, 41, 48, 33, 33, 83, 82, 62, 64, 68, 50, 37, 50, 52, 38,\n",
       "       46, 43, 47, 79, 39, 71, 29, 81, 75, 36, 68, 33, 44, 72, 18, 76, 72,\n",
       "       31, 89, 18, 70, 74, 76, 29, 72, 81, 48, 76, 33, 29, 33, 85, 55, 33,\n",
       "       38, 88, 46, 58, 74, 46, 56, 30, 57, 32, 84, 21, 66, 23, 26, 21, 49,\n",
       "       70, 85, 18, 52, 53, 39, 36, 87, 73, 60, 37, 82, 27, 38, 23, 84, 50,\n",
       "       54, 36, 69, 36, 31, 35, 76, 74, 35, 40, 73, 82, 88, 27, 18, 20, 70,\n",
       "       20, 85, 23, 22, 19, 62, 37, 34, 51, 29, 54, 80, 58, 72, 68, 45, 35,\n",
       "       48, 65, 32, 69, 48, 58, 77, 43, 55, 89, 48, 45, 43, 36, 43, 27, 81,\n",
       "       43, 85, 36, 75, 46, 84, 54, 61, 35, 21, 19, 40, 18, 62, 35, 72, 37,\n",
       "       67, 25, 83, 79, 29, 73, 24, 43, 79, 53, 64, 76, 77, 53, 34, 20, 64,\n",
       "       29, 31, 33, 41, 34, 33, 60, 84, 32, 19, 72, 77, 48, 29, 48, 87, 36,\n",
       "       31, 76, 73, 63, 72, 46, 82, 27, 49, 53, 54, 52, 60, 84, 23, 33, 72,\n",
       "       78, 31, 48, 40, 68, 87, 56, 48, 73, 82, 46, 52, 40, 23, 58, 19, 63,\n",
       "       60, 38, 84, 34, 60, 62, 63])"
      ]
     },
     "execution_count": 9,
     "metadata": {},
     "output_type": "execute_result"
    }
   ],
   "source": [
    "ages = np.random.randint(18, high=90, size=500)\n",
    "ages"
   ]
  },
  {
   "cell_type": "code",
   "execution_count": 11,
   "metadata": {},
   "outputs": [
    {
     "data": {
      "text/plain": [
       "ModeResult(mode=array([33]), count=array([18]))"
      ]
     },
     "execution_count": 11,
     "metadata": {},
     "output_type": "execute_result"
    }
   ],
   "source": [
    "from scipy import stats\n",
    "stats.mode(ages)"
   ]
  },
  {
   "cell_type": "code",
   "execution_count": null,
   "metadata": {},
   "outputs": [],
   "source": []
  }
 ],
 "metadata": {
  "kernelspec": {
   "display_name": "Python 3",
   "language": "python",
   "name": "python3"
  },
  "language_info": {
   "codemirror_mode": {
    "name": "ipython",
    "version": 3
   },
   "file_extension": ".py",
   "mimetype": "text/x-python",
   "name": "python",
   "nbconvert_exporter": "python",
   "pygments_lexer": "ipython3",
   "version": "3.7.4"
  }
 },
 "nbformat": 4,
 "nbformat_minor": 1
}
